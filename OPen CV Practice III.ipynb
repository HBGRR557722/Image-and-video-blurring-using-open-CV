{
 "cells": [
  {
   "cell_type": "code",
   "execution_count": null,
   "metadata": {},
   "outputs": [],
   "source": [
    "import cv2\n",
    "face_cascade = cv2.CascadeClassifier('haarcascade_frontalface_default.xml')\n",
    "video = cv2.VideoCapture(0)\n",
    "\n",
    "while True:\n",
    "    check,frame = video.read()\n",
    "    gray = cv2.cvtColor(frame,cv2.COLOR_BGR2GRAY)\n",
    "    face = face_cascade.detectMultiScale(gray,scaleFactor=1.1,minNeighbors=5)\n",
    "    for x,y,w,h in face:\n",
    "        img = cv2.rectangle(frame,(x,y),(x+w,y+h),(0,255,0),1)\n",
    "        img[y:y+h,x:x+w] = cv2.medianBlur(img[y:y+h,x:x+w],35)\n",
    "        \n",
    "    cv2.imshow(\" Human !!!\",frame)\n",
    "    key = cv2.waitKey(1)\n",
    "    if key== ord('q'):\n",
    "            break\n",
    "video.release\n",
    "cv2.destroyAllWindows()\n",
    "\n"
   ]
  },
  {
   "cell_type": "code",
   "execution_count": null,
   "metadata": {},
   "outputs": [],
   "source": [
    "import cv2 ,time\n",
    "\n",
    "face_cascade=cv2.CascadeClassifier(\"haarcascade_frontalface_default.xml\")\n",
    "smile_cascade=cv2.CascadeClassifier(\"smile.xml\")\n",
    "\n",
    "video=cv2.VideoCapture(0)\n",
    "\n",
    "while True:\n",
    "    check,frame=video.read()\n",
    "    gray = cv2.cvtColor(frame,cv2.COLOR_BGR2GRAY)\n",
    "    face=face_cascade.detectMultiScale(gray,scaleFactor=1.1,minNeighbors=5)\n",
    "    for x,y,w,h in face:\n",
    "        img=cv2.rectangle(frame,(x,y),(x+w,y+h),(0,0,255),3)\n",
    "        smile=smile_cascade.detectMultiScale(gray,scaleFactor=1.8,minNeighbors=20)\n",
    "        for x,y,w,h in smile:\n",
    "            img=cv2.rectangle(frame,(x,y),(x+w,y+h),(255,0,0),3)\n",
    "\n",
    "    cv2.imshow('Hem',frame)\n",
    "    key=cv2.waitKey(1)\n",
    "\n",
    "    if key==ord('q'):\n",
    "         break\n",
    "\n",
    "video.release()\n",
    "cv2.destroyAllWindows"
   ]
  },
  {
   "cell_type": "code",
   "execution_count": null,
   "metadata": {},
   "outputs": [],
   "source": [
    "import cv2 \n",
    "import numpy as np\n",
    "face_cascade=cv2.CascadeClassifier(\"haarcascade_frontalface_default.xml\")\n",
    "img = cv2.imread(\"boy.jpg\")\n",
    "\n",
    "detections = face_cascade.detectMultiScale(img,scaleFactor=1.1,minNeighbors=6)\n",
    "\n",
    "for face in detections:\n",
    "    x,y,w,h = face\n",
    "    \n",
    "    img[y:y+h,x:x+w] = cv2.GaussianBlur(img[y:y+h,x:x+w],(15,15),cv2.BORDER_DEFAULT)\n",
    "    cv2.rectangle(img,(x,y),(x+w,y+h),(255,0,0),2)\n",
    "    \n",
    "    cv2.imshow(\"Output\",img)\n",
    "    \n",
    "cv2.waitKey(0)\n"
   ]
  },
  {
   "cell_type": "code",
   "execution_count": null,
   "metadata": {},
   "outputs": [],
   "source": [
    "import cv2 \n",
    "import numpy as np\n",
    "def resize(img,new_width=500):\n",
    "    height,width,_ = img.shape\n",
    "    ratio = height/width\n",
    "    new_height = int(ratio*new_width)\n",
    "    return cv2.resize(img,(new_width,new_height))\n",
    "face_cascade=cv2.CascadeClassifier(\"haarcascade_frontalface_default.xml\")\n",
    "\n",
    "cap = cv2.VideoCapture(\"watermelon.mp4\")\n",
    "\n",
    "while True:\n",
    "    _,frame = cap.read()\n",
    "    frame = resize(frame)\n",
    "    detections = face_cascade.detectMultiScale(frame,scaleFactor=1.1,minNeighbors=6)\n",
    "\n",
    "    for face in detections:\n",
    "        x,y,w,h = face\n",
    "    \n",
    "        frame[y:y+h,x:x+w] = cv2.GaussianBlur(frame[y:y+h,x:x+w],(15,15),cv2.BORDER_DEFAULT)\n",
    "        cv2.rectangle(frame,(x,y),(x+w,y+h),(255,0,0),2)\n",
    "    \n",
    "        cv2.imshow(\"Output\",frame)\n",
    "    \n",
    "        if cv2.waitKey(1) == 27:\n",
    "            break\n",
    "\n",
    "cap.release()\n",
    "cv2.destroyAllWindows\n"
   ]
  },
  {
   "cell_type": "code",
   "execution_count": null,
   "metadata": {},
   "outputs": [],
   "source": []
  }
 ],
 "metadata": {
  "kernelspec": {
   "display_name": "Python 3",
   "language": "python",
   "name": "python3"
  },
  "language_info": {
   "codemirror_mode": {
    "name": "ipython",
    "version": 3
   },
   "file_extension": ".py",
   "mimetype": "text/x-python",
   "name": "python",
   "nbconvert_exporter": "python",
   "pygments_lexer": "ipython3",
   "version": "3.8.5"
  }
 },
 "nbformat": 4,
 "nbformat_minor": 4
}
